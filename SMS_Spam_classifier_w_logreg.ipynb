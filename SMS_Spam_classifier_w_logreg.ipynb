{
  "nbformat": 4,
  "nbformat_minor": 0,
  "metadata": {
    "colab": {
      "provenance": [],
      "collapsed_sections": []
    },
    "kernelspec": {
      "name": "python3",
      "display_name": "Python 3"
    },
    "language_info": {
      "name": "python"
    },
    "accelerator": "GPU",
    "gpuClass": "standard"
  },
  "cells": [
    {
      "cell_type": "markdown",
      "source": [
        "# **Import package**"
      ],
      "metadata": {
        "id": "lBjYU910AQBz"
      }
    },
    {
      "cell_type": "code",
      "source": [
        "! pip install jcopml"
      ],
      "metadata": {
        "id": "3MJqORtXAr0C"
      },
      "execution_count": null,
      "outputs": []
    },
    {
      "cell_type": "code",
      "source": [
        "import nltk\n",
        "nltk.download('stopwords')\n",
        "nltk.download('punkt')\n",
        "import sklearn"
      ],
      "metadata": {
        "colab": {
          "base_uri": "https://localhost:8080/"
        },
        "id": "y816xUWgAhQI",
        "outputId": "55f8d76a-193c-4cb4-e891-3f2ffcc85145"
      },
      "execution_count": null,
      "outputs": [
        {
          "output_type": "stream",
          "name": "stderr",
          "text": [
            "[nltk_data] Downloading package stopwords to /root/nltk_data...\n",
            "[nltk_data]   Package stopwords is already up-to-date!\n",
            "[nltk_data] Downloading package punkt to /root/nltk_data...\n",
            "[nltk_data]   Unzipping tokenizers/punkt.zip.\n"
          ]
        }
      ]
    },
    {
      "cell_type": "code",
      "execution_count": null,
      "metadata": {
        "id": "LofVG4UNAE4p"
      },
      "outputs": [],
      "source": [
        "import numpy as np\n",
        "import pandas as pd\n",
        "from sklearn.model_selection import train_test_split\n",
        "from sklearn.pipeline import Pipeline\n",
        "from sklearn.compose import ColumnTransformer\n",
        "\n",
        "from jcopml.pipeline import num_pipe,cat_pipe\n",
        "from jcopml.feature_importance import mean_score_decrease"
      ]
    },
    {
      "cell_type": "code",
      "source": [
        "from nltk.corpus import stopwords\n",
        "from nltk.tokenize import word_tokenize, sent_tokenize\n",
        "from string import punctuation\n",
        "\n",
        "swIndo = stopwords.words('indonesian') + list(punctuation)"
      ],
      "metadata": {
        "id": "-XSEFdG0AId0"
      },
      "execution_count": null,
      "outputs": []
    },
    {
      "cell_type": "code",
      "source": [
        "df = pd.read_csv('/content/spam.csv')"
      ],
      "metadata": {
        "id": "lKvb1f_QAIal"
      },
      "execution_count": null,
      "outputs": []
    },
    {
      "cell_type": "code",
      "source": [
        "df.head()"
      ],
      "metadata": {
        "colab": {
          "base_uri": "https://localhost:8080/",
          "height": 206
        },
        "id": "3GprmyHTAIYC",
        "outputId": "fc87b817-7c42-41cd-d803-e4cba51de3bb"
      },
      "execution_count": null,
      "outputs": [
        {
          "output_type": "execute_result",
          "data": {
            "text/plain": [
              "                                                Teks  label\n",
              "0  [PROMO] Beli paket Flash mulai 1GB di MY TELKO...      1\n",
              "1  2.5 GB/30 hari hanya Rp 35 Ribu Spesial buat A...      1\n",
              "2  2016-07-08 11:47:11.Plg Yth, sisa kuota Flash ...      1\n",
              "3  2016-08-07 11:29:47.Plg Yth, sisa kuota Flash ...      1\n",
              "4  4.5GB/30 hari hanya Rp 55 Ribu Spesial buat an...      1"
            ],
            "text/html": [
              "\n",
              "  <div id=\"df-3bb21285-f194-4108-aef3-d637ad0c4959\">\n",
              "    <div class=\"colab-df-container\">\n",
              "      <div>\n",
              "<style scoped>\n",
              "    .dataframe tbody tr th:only-of-type {\n",
              "        vertical-align: middle;\n",
              "    }\n",
              "\n",
              "    .dataframe tbody tr th {\n",
              "        vertical-align: top;\n",
              "    }\n",
              "\n",
              "    .dataframe thead th {\n",
              "        text-align: right;\n",
              "    }\n",
              "</style>\n",
              "<table border=\"1\" class=\"dataframe\">\n",
              "  <thead>\n",
              "    <tr style=\"text-align: right;\">\n",
              "      <th></th>\n",
              "      <th>Teks</th>\n",
              "      <th>label</th>\n",
              "    </tr>\n",
              "  </thead>\n",
              "  <tbody>\n",
              "    <tr>\n",
              "      <th>0</th>\n",
              "      <td>[PROMO] Beli paket Flash mulai 1GB di MY TELKO...</td>\n",
              "      <td>1</td>\n",
              "    </tr>\n",
              "    <tr>\n",
              "      <th>1</th>\n",
              "      <td>2.5 GB/30 hari hanya Rp 35 Ribu Spesial buat A...</td>\n",
              "      <td>1</td>\n",
              "    </tr>\n",
              "    <tr>\n",
              "      <th>2</th>\n",
              "      <td>2016-07-08 11:47:11.Plg Yth, sisa kuota Flash ...</td>\n",
              "      <td>1</td>\n",
              "    </tr>\n",
              "    <tr>\n",
              "      <th>3</th>\n",
              "      <td>2016-08-07 11:29:47.Plg Yth, sisa kuota Flash ...</td>\n",
              "      <td>1</td>\n",
              "    </tr>\n",
              "    <tr>\n",
              "      <th>4</th>\n",
              "      <td>4.5GB/30 hari hanya Rp 55 Ribu Spesial buat an...</td>\n",
              "      <td>1</td>\n",
              "    </tr>\n",
              "  </tbody>\n",
              "</table>\n",
              "</div>\n",
              "      <button class=\"colab-df-convert\" onclick=\"convertToInteractive('df-3bb21285-f194-4108-aef3-d637ad0c4959')\"\n",
              "              title=\"Convert this dataframe to an interactive table.\"\n",
              "              style=\"display:none;\">\n",
              "        \n",
              "  <svg xmlns=\"http://www.w3.org/2000/svg\" height=\"24px\"viewBox=\"0 0 24 24\"\n",
              "       width=\"24px\">\n",
              "    <path d=\"M0 0h24v24H0V0z\" fill=\"none\"/>\n",
              "    <path d=\"M18.56 5.44l.94 2.06.94-2.06 2.06-.94-2.06-.94-.94-2.06-.94 2.06-2.06.94zm-11 1L8.5 8.5l.94-2.06 2.06-.94-2.06-.94L8.5 2.5l-.94 2.06-2.06.94zm10 10l.94 2.06.94-2.06 2.06-.94-2.06-.94-.94-2.06-.94 2.06-2.06.94z\"/><path d=\"M17.41 7.96l-1.37-1.37c-.4-.4-.92-.59-1.43-.59-.52 0-1.04.2-1.43.59L10.3 9.45l-7.72 7.72c-.78.78-.78 2.05 0 2.83L4 21.41c.39.39.9.59 1.41.59.51 0 1.02-.2 1.41-.59l7.78-7.78 2.81-2.81c.8-.78.8-2.07 0-2.86zM5.41 20L4 18.59l7.72-7.72 1.47 1.35L5.41 20z\"/>\n",
              "  </svg>\n",
              "      </button>\n",
              "      \n",
              "  <style>\n",
              "    .colab-df-container {\n",
              "      display:flex;\n",
              "      flex-wrap:wrap;\n",
              "      gap: 12px;\n",
              "    }\n",
              "\n",
              "    .colab-df-convert {\n",
              "      background-color: #E8F0FE;\n",
              "      border: none;\n",
              "      border-radius: 50%;\n",
              "      cursor: pointer;\n",
              "      display: none;\n",
              "      fill: #1967D2;\n",
              "      height: 32px;\n",
              "      padding: 0 0 0 0;\n",
              "      width: 32px;\n",
              "    }\n",
              "\n",
              "    .colab-df-convert:hover {\n",
              "      background-color: #E2EBFA;\n",
              "      box-shadow: 0px 1px 2px rgba(60, 64, 67, 0.3), 0px 1px 3px 1px rgba(60, 64, 67, 0.15);\n",
              "      fill: #174EA6;\n",
              "    }\n",
              "\n",
              "    [theme=dark] .colab-df-convert {\n",
              "      background-color: #3B4455;\n",
              "      fill: #D2E3FC;\n",
              "    }\n",
              "\n",
              "    [theme=dark] .colab-df-convert:hover {\n",
              "      background-color: #434B5C;\n",
              "      box-shadow: 0px 1px 3px 1px rgba(0, 0, 0, 0.15);\n",
              "      filter: drop-shadow(0px 1px 2px rgba(0, 0, 0, 0.3));\n",
              "      fill: #FFFFFF;\n",
              "    }\n",
              "  </style>\n",
              "\n",
              "      <script>\n",
              "        const buttonEl =\n",
              "          document.querySelector('#df-3bb21285-f194-4108-aef3-d637ad0c4959 button.colab-df-convert');\n",
              "        buttonEl.style.display =\n",
              "          google.colab.kernel.accessAllowed ? 'block' : 'none';\n",
              "\n",
              "        async function convertToInteractive(key) {\n",
              "          const element = document.querySelector('#df-3bb21285-f194-4108-aef3-d637ad0c4959');\n",
              "          const dataTable =\n",
              "            await google.colab.kernel.invokeFunction('convertToInteractive',\n",
              "                                                     [key], {});\n",
              "          if (!dataTable) return;\n",
              "\n",
              "          const docLinkHtml = 'Like what you see? Visit the ' +\n",
              "            '<a target=\"_blank\" href=https://colab.research.google.com/notebooks/data_table.ipynb>data table notebook</a>'\n",
              "            + ' to learn more about interactive tables.';\n",
              "          element.innerHTML = '';\n",
              "          dataTable['output_type'] = 'display_data';\n",
              "          await google.colab.output.renderOutput(dataTable, element);\n",
              "          const docLink = document.createElement('div');\n",
              "          docLink.innerHTML = docLinkHtml;\n",
              "          element.appendChild(docLink);\n",
              "        }\n",
              "      </script>\n",
              "    </div>\n",
              "  </div>\n",
              "  "
            ]
          },
          "metadata": {},
          "execution_count": 8
        }
      ]
    },
    {
      "cell_type": "markdown",
      "source": [
        "# **Dataset splitting**"
      ],
      "metadata": {
        "id": "QwltZYEKErmR"
      }
    },
    {
      "cell_type": "code",
      "source": [
        "X = df.Teks\n",
        "y = df.label\n",
        "\n",
        "X_train, X_test, y_train, y_test = train_test_split(X, y, test_size=0.2, stratify=y, random_state=42)\n",
        "X_train.shape, X_test.shape, y_train.shape, y_test.shape"
      ],
      "metadata": {
        "colab": {
          "base_uri": "https://localhost:8080/"
        },
        "id": "Q48Rsy8XAISv",
        "outputId": "537b2615-e5fa-4733-c051-fb83f689fc01"
      },
      "execution_count": null,
      "outputs": [
        {
          "output_type": "execute_result",
          "data": {
            "text/plain": [
              "((914,), (229,), (914,), (229,))"
            ]
          },
          "metadata": {},
          "execution_count": 10
        }
      ]
    },
    {
      "cell_type": "markdown",
      "source": [
        "# **Training pake Xgboost**"
      ],
      "metadata": {
        "id": "JjittGpsFCSW"
      }
    },
    {
      "cell_type": "code",
      "source": [
        "from sklearn.feature_extraction.text import TfidfVectorizer\n",
        "import lightgbm as lgbm\n",
        "from xgboost import XGBClassifier\n",
        "from sklearn.linear_model import LogisticRegression\n",
        "from jcopml.tuning import random_search_params as rsp\n",
        "from sklearn.model_selection import RandomizedSearchCV"
      ],
      "metadata": {
        "id": "vmSi-nrqAIPi"
      },
      "execution_count": null,
      "outputs": []
    },
    {
      "cell_type": "code",
      "source": [
        "rsp.xgb_params"
      ],
      "metadata": {
        "colab": {
          "base_uri": "https://localhost:8080/"
        },
        "id": "UzLmIlwBHORr",
        "outputId": "9e28f675-75cc-45d6-cae7-471b72683e2b"
      },
      "execution_count": null,
      "outputs": [
        {
          "output_type": "execute_result",
          "data": {
            "text/plain": [
              "{'algo__max_depth': Integer(low=1, high=10),\n",
              " 'algo__learning_rate': Real(low=-2, high=0, prior='log-uniform'),\n",
              " 'algo__n_estimators': Integer(low=100, high=200),\n",
              " 'algo__subsample': Real(low=0.3, high=0.8, prior='uniform'),\n",
              " 'algo__gamma': Integer(low=1, high=10),\n",
              " 'algo__colsample_bytree': Real(low=0.1, high=1, prior='uniform'),\n",
              " 'algo__reg_alpha': Real(low=-3, high=1, prior='log-uniform'),\n",
              " 'algo__reg_lambda': Real(low=-3, high=1, prior='log-uniform')}"
            ]
          },
          "metadata": {},
          "execution_count": 14
        }
      ]
    },
    {
      "cell_type": "code",
      "source": [
        "pipeline = Pipeline([\n",
        "    ('prep', TfidfVectorizer(tokenizer=word_tokenize, stop_words=swIndo)),\n",
        "    ('algo', XGBClassifier(n_jobs=-1,random_state=42))\n",
        "])\n",
        "\n",
        "model = RandomizedSearchCV(pipeline, rsp.xgb_params, cv=3, n_iter=50, n_jobs=-1, verbose=1)\n",
        "model.fit(X_train,y_train)\n",
        "\n",
        "print(model.best_params_)\n",
        "print(model.score(X_train, y_train), model.best_score_, model.score(X_test,y_test))"
      ],
      "metadata": {
        "colab": {
          "base_uri": "https://localhost:8080/"
        },
        "id": "fOp0oF7iAINC",
        "outputId": "0566a5fa-540b-4a1b-8eb3-46fe11751d99"
      },
      "execution_count": null,
      "outputs": [
        {
          "output_type": "stream",
          "name": "stdout",
          "text": [
            "Fitting 3 folds for each of 50 candidates, totalling 150 fits\n"
          ]
        },
        {
          "output_type": "stream",
          "name": "stderr",
          "text": [
            "/usr/local/lib/python3.7/dist-packages/sklearn/feature_extraction/text.py:401: UserWarning: Your stop_words may be inconsistent with your preprocessing. Tokenizing the stop words generated tokens ['``'] not in stop_words.\n",
            "  % sorted(inconsistent)\n"
          ]
        },
        {
          "output_type": "stream",
          "name": "stdout",
          "text": [
            "{'algo__colsample_bytree': 0.6580905305683858, 'algo__gamma': 2, 'algo__learning_rate': 0.0186550629964385, 'algo__max_depth': 10, 'algo__n_estimators': 168, 'algo__reg_alpha': 0.07564864570436132, 'algo__reg_lambda': 0.002195628859106995, 'algo__subsample': 0.3445329308165615}\n",
            "0.9343544857768052 0.8982707794075352 0.9519650655021834\n"
          ]
        }
      ]
    },
    {
      "cell_type": "markdown",
      "source": [
        "# **Training pake LogReg**"
      ],
      "metadata": {
        "id": "fBg0B7zCKMhF"
      }
    },
    {
      "cell_type": "code",
      "source": [
        "pipeline = Pipeline([\n",
        "    ('prep', TfidfVectorizer(tokenizer=word_tokenize, stop_words=swIndo)),\n",
        "    ('algo', LogisticRegression(solver='lbfgs',n_jobs=-1,random_state=42))\n",
        "])\n",
        "\n",
        "modelBaru = RandomizedSearchCV(pipeline, rsp.logreg_params, cv=3, n_iter=50, n_jobs=-1, verbose=1)\n",
        "modelBaru.fit(X_train,y_train)\n",
        "\n",
        "print(modelBaru.best_params_)\n",
        "print(modelBaru.score(X_train, y_train), modelBaru.best_score_, modelBaru.score(X_test,y_test))"
      ],
      "metadata": {
        "colab": {
          "base_uri": "https://localhost:8080/"
        },
        "id": "Ls0-Zy2aKPxH",
        "outputId": "f3aa3adb-41b5-43e1-8aaa-a41e12410c0b"
      },
      "execution_count": null,
      "outputs": [
        {
          "output_type": "stream",
          "name": "stdout",
          "text": [
            "Fitting 3 folds for each of 50 candidates, totalling 150 fits\n"
          ]
        },
        {
          "output_type": "stream",
          "name": "stderr",
          "text": [
            "/usr/local/lib/python3.7/dist-packages/sklearn/feature_extraction/text.py:401: UserWarning: Your stop_words may be inconsistent with your preprocessing. Tokenizing the stop words generated tokens ['``'] not in stop_words.\n",
            "  % sorted(inconsistent)\n"
          ]
        },
        {
          "output_type": "stream",
          "name": "stdout",
          "text": [
            "{'algo__C': 14.608535648003944, 'algo__fit_intercept': True}\n",
            "1.0 0.96388769053782 0.9781659388646288\n"
          ]
        }
      ]
    },
    {
      "cell_type": "markdown",
      "source": [
        "# **Sanity check**"
      ],
      "metadata": {
        "id": "JARrZpzqJcxT"
      }
    },
    {
      "cell_type": "code",
      "source": [
        "teks = ['sqyqng beliin qku pulsq di nomor ni yqqqcc 089746528177, mqqcih bgetttlohhhhzz']\n",
        "model.predict(teks)"
      ],
      "metadata": {
        "colab": {
          "base_uri": "https://localhost:8080/"
        },
        "id": "SqQyMqipAIH_",
        "outputId": "d6e839e7-bd05-4c51-c637-e5d0236c3f32"
      },
      "execution_count": null,
      "outputs": [
        {
          "output_type": "execute_result",
          "data": {
            "text/plain": [
              "array([0])"
            ]
          },
          "metadata": {},
          "execution_count": 19
        }
      ]
    },
    {
      "cell_type": "markdown",
      "source": [
        "### <font color='red'>Dari sini kita liat model kita lebih bagus yg pake logreg karena lebih ngenal mana yang cenderung SPAM"
      ],
      "metadata": {
        "id": "od2udxQgNouO"
      }
    },
    {
      "cell_type": "code",
      "source": [
        "teks = ['sqyqng beliin qku pulsq di nomor ni yqqqcc 089746528177, mqqcih bgetttlohhhhzz']\n",
        "modelBaru.predict(teks)"
      ],
      "metadata": {
        "colab": {
          "base_uri": "https://localhost:8080/"
        },
        "id": "lGXJZsyzAIEh",
        "outputId": "06ae77d3-1295-453f-9c94-6f2731b1a5b4"
      },
      "execution_count": null,
      "outputs": [
        {
          "output_type": "execute_result",
          "data": {
            "text/plain": [
              "array([1])"
            ]
          },
          "metadata": {},
          "execution_count": 26
        }
      ]
    },
    {
      "cell_type": "code",
      "source": [
        "teks = ['Ini aku ada di perpus, nanti kita ketemu di taman aja gimana?']\n",
        "modelBaru.predict(teks),modelBaru.predict_proba(teks)"
      ],
      "metadata": {
        "colab": {
          "base_uri": "https://localhost:8080/"
        },
        "id": "vL-j5DomAICY",
        "outputId": "58bb5319-d376-4e0c-9ef6-3b0abd091757"
      },
      "execution_count": null,
      "outputs": [
        {
          "output_type": "execute_result",
          "data": {
            "text/plain": [
              "(array([0]), array([[0.95984116, 0.04015884]]))"
            ]
          },
          "metadata": {},
          "execution_count": 28
        }
      ]
    },
    {
      "cell_type": "code",
      "source": [
        "teks = [\n",
        "    \"Pulsa habis? Ada Paket Darurat  (750 MB, 75 Menit Tsel, 30 SMS Tsel, 2 Hari). BAYAR NANTI Rp7000 sesuai S&K. Balas ketik PD7 jk setuju /hub *505# klik tsel.me/505\"\n",
        "]\n",
        "modelBaru.predict(teks),modelBaru.predict_proba(teks)"
      ],
      "metadata": {
        "colab": {
          "base_uri": "https://localhost:8080/"
        },
        "id": "yEidco3pPnXO",
        "outputId": "dd781936-7e5b-4fb0-d72f-159b5618eb68"
      },
      "execution_count": null,
      "outputs": [
        {
          "output_type": "execute_result",
          "data": {
            "text/plain": [
              "(array([1]), array([[0.06315904, 0.93684096]]))"
            ]
          },
          "metadata": {},
          "execution_count": 29
        }
      ]
    }
  ]
}